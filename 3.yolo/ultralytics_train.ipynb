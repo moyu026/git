{
 "cells": [
  {
   "cell_type": "code",
   "execution_count": null,
   "id": "c61d4650",
   "metadata": {},
   "outputs": [],
   "source": [
    "# 训练yolov5时，使用yolov5nu.pt等带u结尾的模型权重\n",
    "from ultralytics import YOLO\n",
    "\n",
    "model = YOLO(\"yolov5n.yaml\")  # build a new model from scratch\n",
    "model = YOLO(\"yolov5nu.pt\")  # load a pretrained model (recommended for training)\n",
    "\n",
    "# Use the model\n",
    "model.train(data=r\"coco128.yaml\", epochs=10, batch=4, workers=0)"
   ]
  },
  {
   "cell_type": "code",
   "execution_count": null,
   "id": "9333277e",
   "metadata": {},
   "outputs": [],
   "source": [
    "# resume训练，使用最后一次保存的模型权重\n",
    "model = YOLO(\"runs/detect/train/weights/last.pt\")  \n",
    "\n",
    "# Use the model\n",
    "model.train(data=r\"coco128.yaml\", epochs=10, batch=4, workers=0, resume=True)"
   ]
  }
 ],
 "metadata": {
  "kernelspec": {
   "display_name": "Python 3 (ipykernel)",
   "language": "python",
   "name": "python3"
  },
  "language_info": {
   "codemirror_mode": {
    "name": "ipython",
    "version": 3
   },
   "file_extension": ".py",
   "mimetype": "text/x-python",
   "name": "python",
   "nbconvert_exporter": "python",
   "pygments_lexer": "ipython3",
   "version": "3.8.16"
  }
 },
 "nbformat": 4,
 "nbformat_minor": 5
}
