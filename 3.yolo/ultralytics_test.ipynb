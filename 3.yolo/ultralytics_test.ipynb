{
 "cells": [
  {
   "cell_type": "code",
   "execution_count": 1,
   "id": "ce3885a3",
   "metadata": {},
   "outputs": [],
   "source": [
    "from ultralytics import YOLO"
   ]
  },
  {
   "cell_type": "code",
   "execution_count": 4,
   "id": "ee8c977d",
   "metadata": {},
   "outputs": [],
   "source": [
    "model = YOLO(r\"F:\\PythonWork\\0.other\\0.study\\detect\\yolo\\yolov5-master\\yolov5nu.pt\")\n"
   ]
  },
  {
   "cell_type": "code",
   "execution_count": 5,
   "id": "ccb7a623",
   "metadata": {},
   "outputs": [
    {
     "name": "stderr",
     "output_type": "stream",
     "text": [
      "\n",
      "image 1/1 F:\\PythonWork\\0.other\\0.study\\detect\\yolo\\yolov5-master\\datasets\\coco128\\images\\train2017\\000000000009.jpg: 480x640 3 bowls, 1 broccoli, 1 dining table, 34.0ms\n",
      "Speed: 122.0ms preprocess, 34.0ms inference, 468.6ms postprocess per image at shape (1, 3, 480, 640)\n"
     ]
    }
   ],
   "source": [
    "results = model(r\"F:\\PythonWork\\0.other\\0.study\\detect\\yolo\\yolov5-master\\datasets\\coco128\\images\\train2017\\000000000009.jpg\")"
   ]
  },
  {
   "cell_type": "code",
   "execution_count": 6,
   "id": "9eb0247c",
   "metadata": {},
   "outputs": [
    {
     "data": {
      "text/plain": [
       "ultralytics.engine.results.Results object with attributes:\n",
       "\n",
       "boxes: ultralytics.engine.results.Boxes object\n",
       "keypoints: None\n",
       "masks: None\n",
       "names: {0: 'person', 1: 'bicycle', 2: 'car', 3: 'motorcycle', 4: 'airplane', 5: 'bus', 6: 'train', 7: 'truck', 8: 'boat', 9: 'traffic light', 10: 'fire hydrant', 11: 'stop sign', 12: 'parking meter', 13: 'bench', 14: 'bird', 15: 'cat', 16: 'dog', 17: 'horse', 18: 'sheep', 19: 'cow', 20: 'elephant', 21: 'bear', 22: 'zebra', 23: 'giraffe', 24: 'backpack', 25: 'umbrella', 26: 'handbag', 27: 'tie', 28: 'suitcase', 29: 'frisbee', 30: 'skis', 31: 'snowboard', 32: 'sports ball', 33: 'kite', 34: 'baseball bat', 35: 'baseball glove', 36: 'skateboard', 37: 'surfboard', 38: 'tennis racket', 39: 'bottle', 40: 'wine glass', 41: 'cup', 42: 'fork', 43: 'knife', 44: 'spoon', 45: 'bowl', 46: 'banana', 47: 'apple', 48: 'sandwich', 49: 'orange', 50: 'broccoli', 51: 'carrot', 52: 'hot dog', 53: 'pizza', 54: 'donut', 55: 'cake', 56: 'chair', 57: 'couch', 58: 'potted plant', 59: 'bed', 60: 'dining table', 61: 'toilet', 62: 'tv', 63: 'laptop', 64: 'mouse', 65: 'remote', 66: 'keyboard', 67: 'cell phone', 68: 'microwave', 69: 'oven', 70: 'toaster', 71: 'sink', 72: 'refrigerator', 73: 'book', 74: 'clock', 75: 'vase', 76: 'scissors', 77: 'teddy bear', 78: 'hair drier', 79: 'toothbrush'}\n",
       "orig_img: array([[[115,  21,   2],\n",
       "        [115,  21,   2],\n",
       "        [115,  21,   2],\n",
       "        ...,\n",
       "        [191, 171, 136],\n",
       "        [188, 170, 133],\n",
       "        [187, 169, 132]],\n",
       "\n",
       "       [[115,  21,   2],\n",
       "        [115,  21,   2],\n",
       "        [115,  21,   2],\n",
       "        ...,\n",
       "        [193, 171, 135],\n",
       "        [192, 170, 134],\n",
       "        [189, 170, 133]],\n",
       "\n",
       "       [[115,  21,   2],\n",
       "        [115,  21,   2],\n",
       "        [115,  22,   1],\n",
       "        ...,\n",
       "        [198, 172, 136],\n",
       "        [197, 171, 135],\n",
       "        [196, 170, 133]],\n",
       "\n",
       "       ...,\n",
       "\n",
       "       [[  7,   0,   7],\n",
       "        [  7,   0,   7],\n",
       "        [  6,   2,   8],\n",
       "        ...,\n",
       "        [ 35,   8,   4],\n",
       "        [ 30,   2,   2],\n",
       "        [ 33,   7,   7]],\n",
       "\n",
       "       [[  6,   0,   6],\n",
       "        [  6,   0,   6],\n",
       "        [  7,   0,   7],\n",
       "        ...,\n",
       "        [ 26,   2,  10],\n",
       "        [ 23,   0,  10],\n",
       "        [ 20,   0,   9]],\n",
       "\n",
       "       [[  4,   0,   4],\n",
       "        [  5,   0,   5],\n",
       "        [  6,   0,   6],\n",
       "        ...,\n",
       "        [ 25,   0,  14],\n",
       "        [ 22,   0,  17],\n",
       "        [ 23,   0,  20]]], dtype=uint8)\n",
       "orig_shape: (480, 640)\n",
       "path: 'F:\\\\PythonWork\\\\0.other\\\\0.study\\\\detect\\\\yolo\\\\yolov5-master\\\\datasets\\\\coco128\\\\images\\\\train2017\\\\000000000009.jpg'\n",
       "probs: None\n",
       "save_dir: None\n",
       "speed: {'preprocess': 121.95229530334473, 'inference': 34.00015830993652, 'postprocess': 468.60671043395996}"
      ]
     },
     "execution_count": 6,
     "metadata": {},
     "output_type": "execute_result"
    }
   ],
   "source": [
    "results[0]"
   ]
  },
  {
   "cell_type": "code",
   "execution_count": 11,
   "id": "e86a8614",
   "metadata": {},
   "outputs": [
    {
     "name": "stderr",
     "output_type": "stream",
     "text": [
      "WARNING  'Boxes.boxes' is deprecated. Use 'Boxes.data' instead.\n"
     ]
    },
    {
     "data": {
      "text/plain": [
       "ultralytics.engine.results.Boxes object with attributes:\n",
       "\n",
       "boxes: tensor([[2.5521e+02, 2.3253e+02, 5.6621e+02, 4.7987e+02, 8.0039e-01, 5.0000e+01],\n",
       "        [3.0697e+02, 4.8894e-01, 6.2746e+02, 2.4505e+02, 7.0160e-01, 4.5000e+01],\n",
       "        [1.1469e+01, 1.8913e+02, 6.1355e+02, 4.8000e+02, 5.3022e-01, 4.5000e+01],\n",
       "        [4.3155e-01, 3.5838e+00, 4.4277e+02, 4.4645e+02, 4.0741e-01, 4.5000e+01],\n",
       "        [3.4604e+00, 0.0000e+00, 6.3755e+02, 4.8000e+02, 2.5824e-01, 6.0000e+01]], device='cuda:0')\n",
       "cls: tensor([50., 45., 45., 45., 60.], device='cuda:0')\n",
       "conf: tensor([0.8004, 0.7016, 0.5302, 0.4074, 0.2582], device='cuda:0')\n",
       "data: tensor([[2.5521e+02, 2.3253e+02, 5.6621e+02, 4.7987e+02, 8.0039e-01, 5.0000e+01],\n",
       "        [3.0697e+02, 4.8894e-01, 6.2746e+02, 2.4505e+02, 7.0160e-01, 4.5000e+01],\n",
       "        [1.1469e+01, 1.8913e+02, 6.1355e+02, 4.8000e+02, 5.3022e-01, 4.5000e+01],\n",
       "        [4.3155e-01, 3.5838e+00, 4.4277e+02, 4.4645e+02, 4.0741e-01, 4.5000e+01],\n",
       "        [3.4604e+00, 0.0000e+00, 6.3755e+02, 4.8000e+02, 2.5824e-01, 6.0000e+01]], device='cuda:0')\n",
       "id: None\n",
       "is_track: False\n",
       "orig_shape: (480, 640)\n",
       "shape: torch.Size([5, 6])\n",
       "xywh: tensor([[410.7085, 356.2003, 310.9964, 247.3360],\n",
       "        [467.2130, 122.7681, 320.4924, 244.5582],\n",
       "        [312.5103, 334.5652, 602.0836, 290.8697],\n",
       "        [221.5996, 225.0160, 442.3362, 442.8643],\n",
       "        [320.5073, 240.0000, 634.0938, 480.0000]], device='cuda:0')\n",
       "xywhn: tensor([[0.6417, 0.7421, 0.4859, 0.5153],\n",
       "        [0.7300, 0.2558, 0.5008, 0.5095],\n",
       "        [0.4883, 0.6970, 0.9408, 0.6060],\n",
       "        [0.3462, 0.4688, 0.6912, 0.9226],\n",
       "        [0.5008, 0.5000, 0.9908, 1.0000]], device='cuda:0')\n",
       "xyxy: tensor([[2.5521e+02, 2.3253e+02, 5.6621e+02, 4.7987e+02],\n",
       "        [3.0697e+02, 4.8894e-01, 6.2746e+02, 2.4505e+02],\n",
       "        [1.1469e+01, 1.8913e+02, 6.1355e+02, 4.8000e+02],\n",
       "        [4.3155e-01, 3.5838e+00, 4.4277e+02, 4.4645e+02],\n",
       "        [3.4604e+00, 0.0000e+00, 6.3755e+02, 4.8000e+02]], device='cuda:0')\n",
       "xyxyn: tensor([[3.9877e-01, 4.8444e-01, 8.8470e-01, 9.9973e-01],\n",
       "        [4.7964e-01, 1.0186e-03, 9.8040e-01, 5.1051e-01],\n",
       "        [1.7920e-02, 3.9402e-01, 9.5868e-01, 1.0000e+00],\n",
       "        [6.7430e-04, 7.4663e-03, 6.9182e-01, 9.3010e-01],\n",
       "        [5.4069e-03, 0.0000e+00, 9.9618e-01, 1.0000e+00]], device='cuda:0')"
      ]
     },
     "execution_count": 11,
     "metadata": {},
     "output_type": "execute_result"
    }
   ],
   "source": [
    "results[0].boxes"
   ]
  },
  {
   "cell_type": "code",
   "execution_count": 16,
   "id": "955857d8",
   "metadata": {},
   "outputs": [
    {
     "name": "stdout",
     "output_type": "stream",
     "text": [
      "tensor([255.2103, 232.5323, 566.2067, 479.8683,   0.8004,  50.0000], device='cuda:0')\n",
      "tensor([3.0697e+02, 4.8894e-01, 6.2746e+02, 2.4505e+02, 7.0160e-01, 4.5000e+01], device='cuda:0')\n",
      "tensor([1.1469e+01, 1.8913e+02, 6.1355e+02, 4.8000e+02, 5.3022e-01, 4.5000e+01], device='cuda:0')\n",
      "tensor([4.3155e-01, 3.5838e+00, 4.4277e+02, 4.4645e+02, 4.0741e-01, 4.5000e+01], device='cuda:0')\n",
      "tensor([3.4604e+00, 0.0000e+00, 6.3755e+02, 4.8000e+02, 2.5824e-01, 6.0000e+01], device='cuda:0')\n"
     ]
    }
   ],
   "source": [
    "detections = results[0].boxes.data\n",
    "for detection in detections:\n",
    "    print(detection)"
   ]
  },
  {
   "cell_type": "code",
   "execution_count": 17,
   "id": "e4c1c929",
   "metadata": {},
   "outputs": [
    {
     "name": "stdout",
     "output_type": "stream",
     "text": [
      "255.21026611328125 232.53225708007812 566.2066650390625 479.8682556152344 0.8003904819488525 50.0\n",
      "306.966796875 0.4889373779296875 627.4591674804688 245.0471649169922 0.7016048431396484 45.0\n",
      "11.468505859375 189.13034057617188 613.5521240234375 480.0 0.5302188992500305 45.0\n",
      "0.431549072265625 3.583831787109375 442.7677001953125 446.4481506347656 0.40740570425987244 45.0\n",
      "3.46038818359375 0.0 637.5541381835938 480.0 0.2582373023033142 60.0\n"
     ]
    }
   ],
   "source": [
    "for detection in detections:\n",
    "    xmin,ymin,xmax,ymax,conf,cls = detection.tolist()\n",
    "    print(xmin,ymin,xmax,ymax,conf,cls)"
   ]
  },
  {
   "cell_type": "code",
   "execution_count": null,
   "id": "63abe6be",
   "metadata": {},
   "outputs": [],
   "source": []
  }
 ],
 "metadata": {
  "kernelspec": {
   "display_name": "Python 3 (ipykernel)",
   "language": "python",
   "name": "python3"
  },
  "language_info": {
   "codemirror_mode": {
    "name": "ipython",
    "version": 3
   },
   "file_extension": ".py",
   "mimetype": "text/x-python",
   "name": "python",
   "nbconvert_exporter": "python",
   "pygments_lexer": "ipython3",
   "version": "3.8.16"
  }
 },
 "nbformat": 4,
 "nbformat_minor": 5
}
