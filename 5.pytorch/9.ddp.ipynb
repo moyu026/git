{
 "cells": [
  {
   "cell_type": "markdown",
   "id": "a6cc1ce0",
   "metadata": {},
   "source": [
    "#### ddp的每个gpu都加载一个模型，fsdp的每个gpu加载部分模型参数\n",
    "`使用gloo通信方式时,在测试过程中可能会出现bug,[../third_party/gloo/gloo/transport/tcp/pair.cc:598] Connection closed by peer [127.0.1.1]:27521`  \n",
    "`使用nccl通信方式时，在多张4090上训练，在加载完模型后可能会卡住不动，添加环境变量os.environ['NCCL_P2P_DISABLE'] = \"1\"`"
   ]
  },
  {
   "cell_type": "markdown",
   "id": "c34bac89",
   "metadata": {},
   "source": [
    "#### 1.初始化环境变量\n"
   ]
  },
  {
   "cell_type": "code",
   "execution_count": 3,
   "id": "6671daa9",
   "metadata": {},
   "outputs": [],
   "source": [
    "import os\n",
    "import torch\n",
    "\n",
    "os.environ['MASTER_ADDR'] = 'localhost'\n",
    "os.environ['MASTER_PORT'] = '12345'\n",
    "os.environ['CUDA_VISIBLE_DEVICES'] = '0,1'  # 设置可用的GPU索引\n",
    "os.environ['WORLD_SIZE'] = str(torch.cuda.device_count()) # 设置进程数，等于前面指定的可用的显卡数"
   ]
  },
  {
   "cell_type": "markdown",
   "id": "53da435f",
   "metadata": {},
   "source": [
    "#### 2. 初始化进程组"
   ]
  },
  {
   "cell_type": "code",
   "execution_count": 4,
   "id": "82663de3",
   "metadata": {},
   "outputs": [],
   "source": [
    "import torch.distributed as dist\n",
    "\n",
    "def init_ddp(local_rank):\n",
    "    dist.init_process_group(backend=\"nccl\", rank=local_rank)"
   ]
  },
  {
   "cell_type": "markdown",
   "id": "440bc92f",
   "metadata": {},
   "source": [
    "#### 3.销毁进程组\n"
   ]
  },
  {
   "cell_type": "code",
   "execution_count": null,
   "id": "2cdbf6b5",
   "metadata": {},
   "outputs": [],
   "source": [
    "def cleanup():\n",
    "    dist.destroy_process_group()"
   ]
  },
  {
   "cell_type": "markdown",
   "id": "07209ec5",
   "metadata": {},
   "source": [
    "#### 4.运行的主函数"
   ]
  },
  {
   "cell_type": "code",
   "execution_count": 2,
   "id": "8b8ff318",
   "metadata": {},
   "outputs": [
    {
     "data": {
      "text/plain": [
       "1"
      ]
     },
     "execution_count": 2,
     "metadata": {},
     "output_type": "execute_result"
    }
   ],
   "source": [
    "\n",
    "def demo_ddp(rank, world_size): # mp.spawn 自动为每个启动的进程分配一个 rank 参数，rank 是从 0 到 nprocs-1 的整数。\n",
    "    init_ddp(rank)  # 初始化进程组\n",
    "\n",
    "    model = SimpleModel().to(rank)\n",
    "    ddp_model = DDP(model, device_ids=[rank])\n",
    "\n",
    "    loss_fn = nn.MSELoss()\n",
    "    optimizer = optim.SGD(ddp_model.parameters(), lr=0.001)\n",
    "\n",
    "    for epoch in range(10):\n",
    "        optimizer.zero_grad()\n",
    "        outputs = ddp_model(torch.randn(20, 10).to(rank))\n",
    "        labels = torch.randn(20, 10).to(rank)\n",
    "        loss = loss_fn(outputs, labels)\n",
    "        loss.backward()\n",
    "        optimizer.step()\n",
    "        if rank == 0:\n",
    "            print(f\"Epoch {epoch} Loss: {loss.item()}\")\n",
    "\n",
    "    cleanup()\n",
    "\n",
    "\n"
   ]
  },
  {
   "cell_type": "code",
   "execution_count": null,
   "id": "593be084",
   "metadata": {},
   "outputs": [],
   "source": [
    "\n",
    "if __name__ == \"__main__\":\n",
    "    mp.spawn(demo_ddp,\n",
    "             args=(world_size,),\n",
    "             nprocs=world_size,\n",
    "             join=True)\n",
    "    run_demo(demo_ddp, n_gpus)"
   ]
  }
 ],
 "metadata": {
  "kernelspec": {
   "display_name": "Python 3 (ipykernel)",
   "language": "python",
   "name": "python3"
  },
  "language_info": {
   "codemirror_mode": {
    "name": "ipython",
    "version": 3
   },
   "file_extension": ".py",
   "mimetype": "text/x-python",
   "name": "python",
   "nbconvert_exporter": "python",
   "pygments_lexer": "ipython3",
   "version": "3.8.16"
  }
 },
 "nbformat": 4,
 "nbformat_minor": 5
}
