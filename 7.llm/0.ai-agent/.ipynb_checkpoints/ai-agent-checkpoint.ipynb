{
 "cells": [
  {
   "cell_type": "markdown",
   "id": "942b4fca-5539-4491-8bd0-61090bb0991c",
   "metadata": {},
   "source": [
    "### 使用AutoGen + Ollama 创建智能体"
   ]
  },
  {
   "cell_type": "markdown",
   "id": "3072eeb7-2d24-4bcc-861b-da755ba73787",
   "metadata": {},
   "source": [
    "- 1.安装ollama:`ollama.ai`\n",
    "- 2.使用ollama下载要使用的模型：\n",
    "  - `ollama run mistral`\n",
    "  - `ollama run codellama`\n",
    "- 3.创建conda环境python>3.10\n",
    "- 4.安装autogen:`pip install pyautogen`\n",
    "- 5.安装litellama:`pip install litellm`\n",
    "- 6.安装一些依赖包:\n",
    "    - `pip install litellm[proxy]`\n",
    "- 7.使用litellm加载ollama中下载的模型(**在代码中把http://0.0.0.0:4000改为http://127.0.0.1:4000，关闭vpn**):\n",
    "   - `litellm --model ollama/mistral`\n",
    "   - `litellm --model ollama/codellama`\n",
    "     \n",
    "  "
   ]
  },
  {
   "cell_type": "code",
   "execution_count": 1,
   "id": "268cbb09-d331-4534-a8ff-07f431573d5c",
   "metadata": {},
   "outputs": [],
   "source": [
    "import autogen"
   ]
  },
  {
   "cell_type": "markdown",
   "id": "a76fecab-82c5-4474-ac1b-579ffcb91796",
   "metadata": {},
   "source": [
    "##### 配置大型语言模型（LLMs）的服务地址、API密钥及模型名称"
   ]
  },
  {
   "cell_type": "code",
   "execution_count": 2,
   "id": "f2c68d8f-625c-4b79-9c51-10780bc6f5d3",
   "metadata": {},
   "outputs": [],
   "source": [
    "config_list_mistral = [\n",
    "    {\n",
    "        'base_url': 'http://127.0.0.1:4000',\n",
    "        'api_key': 'NULL',\n",
    "        'model': \"mistral\"\n",
    "    }\n",
    "]\n",
    "\n",
    "config_list_codellama = [\n",
    "    {\n",
    "        'base_url': 'http://127.0.0.1:11854',\n",
    "        'api_key': 'NULL',\n",
    "        'model': \"codellama \"\n",
    "    }\n",
    "]"
   ]
  },
  {
   "cell_type": "markdown",
   "id": "87790df8-689e-4e19-bcd2-a26e8b56640e",
   "metadata": {},
   "source": [
    "##### 创建LLM配置对象"
   ]
  },
  {
   "cell_type": "code",
   "execution_count": 3,
   "id": "b2b32c1c-71a5-401c-b7e3-81d60a50b79a",
   "metadata": {},
   "outputs": [],
   "source": [
    "llm_config_mistral = {\n",
    "    'config_list': config_list_mistral,\n",
    "}\n",
    "\n",
    "llm_config_codellama = {\n",
    "    'config_list': config_list_codellama,\n",
    "}"
   ]
  },
  {
   "cell_type": "markdown",
   "id": "586b86fc-5371-422d-9a09-a3d6408db329",
   "metadata": {},
   "source": [
    "##### 初始化三个智能体：\n",
    "- assistant：使用名为“mistral”的LLM模型的助理型智能体。\n",
    "- coder：使用名为“codellama”的LLM模型的编程专家型智能体。\n",
    "- user_proxy：代表用户的人工智能代理，可以接收用户的输入并在满足条件时终止对话。设置了参数如最大连续自动回复次数、终止消息判断函数（当消息内容以'TERMINATE'结尾时终止对话）、禁用了代码执行功能（或者指定了工作目录，这里注释掉了），并使用“mistral”模型进行文本生成。"
   ]
  },
  {
   "cell_type": "code",
   "execution_count": 4,
   "id": "b3bfca1b-755a-4803-87e4-4e706524535b",
   "metadata": {},
   "outputs": [],
   "source": [
    "assistant = autogen.AssistantAgent(\n",
    "    name='Assistant',\n",
    "    llm_config=llm_config_mistral,\n",
    ")\n",
    "\n",
    "coder = autogen.AssistantAgent(\n",
    "    name='coder',\n",
    "    llm_config=llm_config_codellama,\n",
    ")\n",
    "\n",
    "user_proxy = autogen.UserProxyAgent(\n",
    "    name='user_proxy',\n",
    "    human_input_mode='TERMINATE',\n",
    "    max_consecutive_auto_reply=10,\n",
    "    is_termination_msg=lambda x: x.get('content', '').rstrip().endswith('TERMINATE'),\n",
    "    # code_execution_config={'woek_dir':'web'},\n",
    "    code_execution_config=False,\n",
    "    llm_config=llm_config_mistral,\n",
    "    system_message=\"\"\"Reply Terminate if the task has been solved at full satisfaction.\n",
    "    Otherwise, reply CONTINUE, or the reason why the task is not solved yet.\"\"\"\n",
    ")"
   ]
  },
  {
   "cell_type": "markdown",
   "id": "869c8deb-c602-4cd1-ab5d-cad4d3808189",
   "metadata": {},
   "source": [
    "##### 定义一个初始任务"
   ]
  },
  {
   "cell_type": "code",
   "execution_count": 5,
   "id": "f78ff01c-16fc-410e-8a6f-c6691fc164a8",
   "metadata": {},
   "outputs": [],
   "source": [
    "task = '''detect dog use pytorch'''"
   ]
  },
  {
   "cell_type": "markdown",
   "id": "e512ba8c-08d5-4ff9-afa2-bab812854b80",
   "metadata": {},
   "source": [
    "##### 创建一个群聊实例"
   ]
  },
  {
   "cell_type": "code",
   "execution_count": 6,
   "id": "8f0e511d-0157-4617-b3cb-20649905dd47",
   "metadata": {},
   "outputs": [],
   "source": [
    "# 使用上述定义的三个智能体创建一个群聊，初始化消息列表为空，并设置了最多可进行12轮对话。\n",
    "groupchat = autogen.GroupChat(agents=[user_proxy, coder, assistant], messages=[], max_round=12)"
   ]
  },
  {
   "cell_type": "markdown",
   "id": "ccfadd71-2c3d-483b-bcd5-737b53d3224f",
   "metadata": {},
   "source": [
    "##### 创建群聊管理器"
   ]
  },
  {
   "cell_type": "code",
   "execution_count": 7,
   "id": "35f2237c-d634-485e-9f5f-3e5c8ed2dec7",
   "metadata": {},
   "outputs": [],
   "source": [
    "# 群聊管理器用于协调和管理整个对话过程，这里传入了之前创建的群聊实例和其中一个LLM配置。\n",
    "manager = autogen.GroupChatManager(groupchat=groupchat, llm_config=llm_config_mistral)"
   ]
  },
  {
   "cell_type": "markdown",
   "id": "8f9a7e45-5c7e-44dc-bd47-ed646ce75dbb",
   "metadata": {},
   "source": [
    "##### 开始对话"
   ]
  },
  {
   "cell_type": "code",
   "execution_count": 8,
   "id": "794e617c-f915-46c4-8848-79278f60252d",
   "metadata": {},
   "outputs": [
    {
     "name": "stdout",
     "output_type": "stream",
     "text": [
      "\u001b[33muser_proxy\u001b[0m (to chat_manager):\n",
      "\n",
      "detect dog use pytorch\n",
      "\n",
      "--------------------------------------------------------------------------------\n"
     ]
    },
    {
     "name": "stderr",
     "output_type": "stream",
     "text": [
      "GroupChat select_speaker failed to resolve the next speaker's name. This is because the speaker selection OAI call returned:\n",
      " The given conversation does not provide any context about who initiated the command or what has been discussed before. Therefore, it is impossible to determine the next role based on this information alone. Here are some assumptions we could make based on the roles:\n",
      "\n",
      "1. user_proxy: This role might initiate a request for using Pytorch to detect dogs, as they have access to Python and Linux command line.\n",
      "2. coder: This role might respond with the necessary code snippets or libraries required to use Pytorch for dog detection.\n",
      "3. Assistant: This role might explain the process of setting up and using Pytorch for dog detection, providing useful links or resources.\n",
      "\n",
      "Based on this analysis, the next role could be any one of them depending on the context of the conversation. Without more information, it is impossible to definitively determine which role should play next.\n"
     ]
    },
    {
     "name": "stdout",
     "output_type": "stream",
     "text": [
      "\u001b[33mcoder\u001b[0m (to chat_manager):\n",
      "\n",
      "\n",
      "To detect dogs using PyTorch, we will need to create a convolutional neural network (CNN) that takes in an image of a dog and outputs a probability that it contains a dog. We will also need to preprocess the images before feeding them into the CNN.\n",
      "\n",
      "Here is some example code that demonstrates how to do this:\n",
      "```\n",
      "import torch\n",
      "from torchvision import transforms\n",
      "from PIL import Image\n",
      "\n",
      "# Define the preprocessing function for the input images\n",
      "def preprocess(image):\n",
      "    # Resize the image to 224x224 pixels\n",
      "    image = image.resize((224, 224))\n",
      "    # Normalize the pixel values to be between 0 and 1\n",
      "    image = image.normalize(mean=[0.485, 0.456, 0.406], std=[0.229, 0.224, 0.225])\n",
      "    return image\n",
      "\n",
      "# Load the pretrained ResNet-50 model and set it to evaluation mode\n",
      "model = torch.hub.load(\"resnet50\", pretrained=True)\n",
      "model.eval()\n",
      "\n",
      "# Load an example dog image from disk\n",
      "image_path = \"dog.jpg\"\n",
      "image = Image.open(image_path)\n",
      "\n",
      "# Preprocess the input image and convert it to a PyTorch tensor\n",
      "image = preprocess(image).to(torch.float32)\n",
      "\n",
      "# Use the CNN to classify the input image as either containing a dog or not\n",
      "output = model(image)\n",
      "\n",
      "# Print the output probability that the input image contains a dog\n",
      "print(f\"Probability of dog in image: {output}\")\n",
      "```\n",
      "In this example, we first define a preprocessing function `preprocess` that resizes and normalizes the input images to the dimensions and values required by the pretrained ResNet-50 model. We then load the pretrained model and set it to evaluation mode using the `eval()` method.\n",
      "\n",
      "Next, we load an example dog image from disk using PIL and convert it to a PyTorch tensor using the `to(torch.float32)` method. We then use the CNN to classify the input image as either containing a dog or not by passing it through the model's forward pass. Finally, we print the output probability that the input image contains a dog.\n",
      "\n",
      "Note that this code assumes that you have downloaded the pretrained ResNet-50 model and saved it to your local machine using PyTorch's `hub` module. If you have not done so already, you will need to do this before running the code.\n",
      "\n",
      "--------------------------------------------------------------------------------\n"
     ]
    },
    {
     "name": "stderr",
     "output_type": "stream",
     "text": [
      "GroupChat select_speaker failed to resolve the next speaker's name. This is because the speaker selection OAI call returned:\n",
      " coder. I cannot directly run or execute code as a user_proxy, but I can help you understand and write it as an assistant or a coder. In this case, since we are discussing how to detect dogs using PyTorch and providing example code, I would play the role of a coder.\n"
     ]
    },
    {
     "name": "stdout",
     "output_type": "stream",
     "text": [
      "\u001b[33mAssistant\u001b[0m (to chat_manager):\n",
      "\n",
      " Here is the complete code for detecting dogs using PyTorch:\n",
      "\n",
      "```python\n",
      "# filename: dog_detection.py\n",
      "\n",
      "import torch\n",
      "from torchvision import transforms\n",
      "from PIL import Image\n",
      "\n",
      "# Define the preprocessing function for the input images\n",
      "def preprocess(image):\n",
      "    # Resize the image to 224x224 pixels\n",
      "    image = image.resize((224, 224))\n",
      "    # Normalize the pixel values to be between 0 and 1\n",
      "    image = image.normalize(mean=[0.485, 0.456, 0.406], std=[0.229, 0.224, 0.225])\n",
      "    return image\n",
      "\n",
      "# Load the pretrained ResNet-50 model and set it to evaluation mode\n",
      "model = torch.hub.load(\"resnet50\", pretrained=True)\n",
      "model.eval()\n",
      "\n",
      "# Define a function to detect dogs in an input image\n",
      "def detect_dog(image_path):\n",
      "    # Load the input image from disk\n",
      "    image = Image.open(image_path)\n",
      "\n",
      "    # Preprocess the input image and convert it to a PyTorch tensor\n",
      "    image = preprocess(image).to(torch.float32)\n",
      "\n",
      "    # Use the CNN to classify the input image as either containing a dog or not\n",
      "    output = model(image)\n",
      "\n",
      "    # Get the probability of the highest confidence class (dog or not)\n",
      "    prob_dog = output[0][1]\n",
      "\n",
      "    return prob_dog > 0.5\n",
      "\n",
      "# Test the function on an example image\n",
      "image_path = \"dog.jpg\"\n",
      "prob_dog = detect_dog(image_path)\n",
      "\n",
      "# Print the result of the detection\n",
      "print(f\"Probability of dog in image: {prob_dog}\")\n",
      "```\n",
      "\n",
      "To use this code, save it to a file named `dog_detection.py`, and then run it using the Python interpreter:\n",
      "\n",
      "```sh\n",
      "python dog_detection.py\n",
      "```\n",
      "\n",
      "Make sure that you have downloaded and saved the pretrained ResNet-50 model in your local machine before running the code, as mentioned earlier. The code assumes that the input image is named `dog.jpg` and located in the same directory as the script file. If the input image has a different name or location, modify the `image_path` variable accordingly.\n",
      "\n",
      "The function `detect_dog` takes an input image path, preprocesses it, classifies it using the ResNet-50 model, and returns the probability of the input image containing a dog. The threshold for a positive detection is set to 0.5 by default, but you can modify this value as needed.\n",
      "\n",
      "TERMINATE\n",
      "\n",
      "--------------------------------------------------------------------------------\n"
     ]
    },
    {
     "name": "stderr",
     "output_type": "stream",
     "text": [
      "GroupChat select_speaker failed to resolve the next speaker's name. This is because the speaker selection OAI call returned:\n",
      " user\\_proxy. I will execute the provided PyTorch code on a dog image file and report back the probability output.\n"
     ]
    },
    {
     "name": "stdin",
     "output_type": "stream",
     "text": [
      "Please give feedback to chat_manager. Press enter or type 'exit' to stop the conversation:  \n"
     ]
    },
    {
     "name": "stdout",
     "output_type": "stream",
     "text": [
      "\u001b[31m\n",
      ">>>>>>>> NO HUMAN INPUT RECEIVED.\u001b[0m\n"
     ]
    },
    {
     "data": {
      "text/plain": [
       "ChatResult(chat_id=None, chat_history=[{'content': 'detect dog use pytorch', 'role': 'assistant'}, {'content': '\\nTo detect dogs using PyTorch, we will need to create a convolutional neural network (CNN) that takes in an image of a dog and outputs a probability that it contains a dog. We will also need to preprocess the images before feeding them into the CNN.\\n\\nHere is some example code that demonstrates how to do this:\\n```\\nimport torch\\nfrom torchvision import transforms\\nfrom PIL import Image\\n\\n# Define the preprocessing function for the input images\\ndef preprocess(image):\\n    # Resize the image to 224x224 pixels\\n    image = image.resize((224, 224))\\n    # Normalize the pixel values to be between 0 and 1\\n    image = image.normalize(mean=[0.485, 0.456, 0.406], std=[0.229, 0.224, 0.225])\\n    return image\\n\\n# Load the pretrained ResNet-50 model and set it to evaluation mode\\nmodel = torch.hub.load(\"resnet50\", pretrained=True)\\nmodel.eval()\\n\\n# Load an example dog image from disk\\nimage_path = \"dog.jpg\"\\nimage = Image.open(image_path)\\n\\n# Preprocess the input image and convert it to a PyTorch tensor\\nimage = preprocess(image).to(torch.float32)\\n\\n# Use the CNN to classify the input image as either containing a dog or not\\noutput = model(image)\\n\\n# Print the output probability that the input image contains a dog\\nprint(f\"Probability of dog in image: {output}\")\\n```\\nIn this example, we first define a preprocessing function `preprocess` that resizes and normalizes the input images to the dimensions and values required by the pretrained ResNet-50 model. We then load the pretrained model and set it to evaluation mode using the `eval()` method.\\n\\nNext, we load an example dog image from disk using PIL and convert it to a PyTorch tensor using the `to(torch.float32)` method. We then use the CNN to classify the input image as either containing a dog or not by passing it through the model\\'s forward pass. Finally, we print the output probability that the input image contains a dog.\\n\\nNote that this code assumes that you have downloaded the pretrained ResNet-50 model and saved it to your local machine using PyTorch\\'s `hub` module. If you have not done so already, you will need to do this before running the code.', 'name': 'coder', 'role': 'user'}, {'content': ' Here is the complete code for detecting dogs using PyTorch:\\n\\n```python\\n# filename: dog_detection.py\\n\\nimport torch\\nfrom torchvision import transforms\\nfrom PIL import Image\\n\\n# Define the preprocessing function for the input images\\ndef preprocess(image):\\n    # Resize the image to 224x224 pixels\\n    image = image.resize((224, 224))\\n    # Normalize the pixel values to be between 0 and 1\\n    image = image.normalize(mean=[0.485, 0.456, 0.406], std=[0.229, 0.224, 0.225])\\n    return image\\n\\n# Load the pretrained ResNet-50 model and set it to evaluation mode\\nmodel = torch.hub.load(\"resnet50\", pretrained=True)\\nmodel.eval()\\n\\n# Define a function to detect dogs in an input image\\ndef detect_dog(image_path):\\n    # Load the input image from disk\\n    image = Image.open(image_path)\\n\\n    # Preprocess the input image and convert it to a PyTorch tensor\\n    image = preprocess(image).to(torch.float32)\\n\\n    # Use the CNN to classify the input image as either containing a dog or not\\n    output = model(image)\\n\\n    # Get the probability of the highest confidence class (dog or not)\\n    prob_dog = output[0][1]\\n\\n    return prob_dog > 0.5\\n\\n# Test the function on an example image\\nimage_path = \"dog.jpg\"\\nprob_dog = detect_dog(image_path)\\n\\n# Print the result of the detection\\nprint(f\"Probability of dog in image: {prob_dog}\")\\n```\\n\\nTo use this code, save it to a file named `dog_detection.py`, and then run it using the Python interpreter:\\n\\n```sh\\npython dog_detection.py\\n```\\n\\nMake sure that you have downloaded and saved the pretrained ResNet-50 model in your local machine before running the code, as mentioned earlier. The code assumes that the input image is named `dog.jpg` and located in the same directory as the script file. If the input image has a different name or location, modify the `image_path` variable accordingly.\\n\\nThe function `detect_dog` takes an input image path, preprocesses it, classifies it using the ResNet-50 model, and returns the probability of the input image containing a dog. The threshold for a positive detection is set to 0.5 by default, but you can modify this value as needed.\\n\\nTERMINATE', 'name': 'Assistant', 'role': 'user'}], summary=' Here is the complete code for detecting dogs using PyTorch:\\n\\n```python\\n# filename: dog_detection.py\\n\\nimport torch\\nfrom torchvision import transforms\\nfrom PIL import Image\\n\\n# Define the preprocessing function for the input images\\ndef preprocess(image):\\n    # Resize the image to 224x224 pixels\\n    image = image.resize((224, 224))\\n    # Normalize the pixel values to be between 0 and 1\\n    image = image.normalize(mean=[0.485, 0.456, 0.406], std=[0.229, 0.224, 0.225])\\n    return image\\n\\n# Load the pretrained ResNet-50 model and set it to evaluation mode\\nmodel = torch.hub.load(\"resnet50\", pretrained=True)\\nmodel.eval()\\n\\n# Define a function to detect dogs in an input image\\ndef detect_dog(image_path):\\n    # Load the input image from disk\\n    image = Image.open(image_path)\\n\\n    # Preprocess the input image and convert it to a PyTorch tensor\\n    image = preprocess(image).to(torch.float32)\\n\\n    # Use the CNN to classify the input image as either containing a dog or not\\n    output = model(image)\\n\\n    # Get the probability of the highest confidence class (dog or not)\\n    prob_dog = output[0][1]\\n\\n    return prob_dog > 0.5\\n\\n# Test the function on an example image\\nimage_path = \"dog.jpg\"\\nprob_dog = detect_dog(image_path)\\n\\n# Print the result of the detection\\nprint(f\"Probability of dog in image: {prob_dog}\")\\n```\\n\\nTo use this code, save it to a file named `dog_detection.py`, and then run it using the Python interpreter:\\n\\n```sh\\npython dog_detection.py\\n```\\n\\nMake sure that you have downloaded and saved the pretrained ResNet-50 model in your local machine before running the code, as mentioned earlier. The code assumes that the input image is named `dog.jpg` and located in the same directory as the script file. If the input image has a different name or location, modify the `image_path` variable accordingly.\\n\\nThe function `detect_dog` takes an input image path, preprocesses it, classifies it using the ResNet-50 model, and returns the probability of the input image containing a dog. The threshold for a positive detection is set to 0.5 by default, but you can modify this value as needed.\\n\\n', cost=({'total_cost': 0, 'ollama/mistral': {'cost': 0, 'prompt_tokens': 2337, 'completion_tokens': 277, 'total_tokens': 2614}}, {'total_cost': 0, 'ollama/mistral': {'cost': 0, 'prompt_tokens': 2337, 'completion_tokens': 277, 'total_tokens': 2614}}), human_input=[''])"
      ]
     },
     "execution_count": 8,
     "metadata": {},
     "output_type": "execute_result"
    }
   ],
   "source": [
    "user_proxy.initiate_chat(manager, message=task)"
   ]
  },
  {
   "cell_type": "code",
   "execution_count": null,
   "id": "174d31ab-6645-4637-ae8a-a074bb0c7d76",
   "metadata": {},
   "outputs": [],
   "source": []
  }
 ],
 "metadata": {
  "kernelspec": {
   "display_name": "Python 3 (ipykernel)",
   "language": "python",
   "name": "python3"
  },
  "language_info": {
   "codemirror_mode": {
    "name": "ipython",
    "version": 3
   },
   "file_extension": ".py",
   "mimetype": "text/x-python",
   "name": "python",
   "nbconvert_exporter": "python",
   "pygments_lexer": "ipython3",
   "version": "3.11.8"
  }
 },
 "nbformat": 4,
 "nbformat_minor": 5
}
