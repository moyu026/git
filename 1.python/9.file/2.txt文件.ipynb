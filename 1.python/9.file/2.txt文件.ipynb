{
 "cells": [
  {
   "cell_type": "markdown",
   "id": "4a975cf5",
   "metadata": {},
   "source": [
    "#### 1.读取文件内容\n",
    "- `file.read()` 一次性读取文件所有内容\n",
    "- `file.readlines()` 逐行读取文件内容 "
   ]
  },
  {
   "cell_type": "code",
   "execution_count": 1,
   "id": "7e52fd65",
   "metadata": {},
   "outputs": [
    {
     "name": "stdout",
     "output_type": "stream",
     "text": [
      "0 0.237103 0.830605 0.0648148 0.172619 0.370494\n",
      "7 0.888558 0.533234 0.214947 0.500496 0.857203\n",
      "\n"
     ]
    }
   ],
   "source": [
    "# 一次性读取文件所有内容\n",
    "with open('data/0.txt', 'r') as file:\n",
    "    content = file.read()\n",
    "    print(content)"
   ]
  },
  {
   "cell_type": "code",
   "execution_count": 2,
   "id": "0cab3011",
   "metadata": {},
   "outputs": [
    {
     "name": "stdout",
     "output_type": "stream",
     "text": [
      "0 0.237103 0.830605 0.0648148 0.172619 0.370494\n",
      "\n",
      "7 0.888558 0.533234 0.214947 0.500496 0.857203\n",
      "\n"
     ]
    }
   ],
   "source": [
    "# 逐行读取文件内容\n",
    "with open('data/0.txt', 'r') as file:\n",
    "    lines = file.readlines() # 使用 readlines() 方法时，lines 是列表类型，每个元素是一个字符串，代表文件中的一行\n",
    "    for line in lines:\n",
    "        print(line)"
   ]
  },
  {
   "cell_type": "code",
   "execution_count": null,
   "id": "a3e1c255",
   "metadata": {},
   "outputs": [],
   "source": []
  }
 ],
 "metadata": {
  "kernelspec": {
   "display_name": "Python 3 (ipykernel)",
   "language": "python",
   "name": "python3"
  },
  "language_info": {
   "codemirror_mode": {
    "name": "ipython",
    "version": 3
   },
   "file_extension": ".py",
   "mimetype": "text/x-python",
   "name": "python",
   "nbconvert_exporter": "python",
   "pygments_lexer": "ipython3",
   "version": "3.8.16"
  }
 },
 "nbformat": 4,
 "nbformat_minor": 5
}
