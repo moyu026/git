{
 "cells": [
  {
   "cell_type": "markdown",
   "id": "71d26b65",
   "metadata": {},
   "source": [
    "#### 1.读取json文件\n",
    "- json.load()方法"
   ]
  },
  {
   "cell_type": "code",
   "execution_count": 1,
   "id": "ccbb8967",
   "metadata": {},
   "outputs": [
    {
     "name": "stdout",
     "output_type": "stream",
     "text": [
      "{'aeroplane': 1, 'bicycle': 2, 'bird': 3, 'boat': 4, 'bottle': 5, 'bus': 6, 'car': 7, 'cat': 8, 'chair': 9, 'cow': 10, 'diningtable': 11, 'dog': 12, 'horse': 13, 'motorbike': 14, 'person': 15, 'pottedplant': 16, 'sheep': 17, 'sofa': 18, 'train': 19, 'tvmonitor': 20}\n"
     ]
    }
   ],
   "source": [
    "import json\n",
    "\n",
    "with open('data/pascal_voc_classes.json') as f:\n",
    "    txt = json.load(f)\n",
    "    print(txt)"
   ]
  },
  {
   "cell_type": "markdown",
   "id": "d404ffaa",
   "metadata": {},
   "source": [
    "#### 2.把字典内容写进json\n",
    "- json.dump()方法"
   ]
  },
  {
   "cell_type": "code",
   "execution_count": 3,
   "id": "38774948",
   "metadata": {},
   "outputs": [],
   "source": [
    "import json\n",
    "\n",
    "# 假设有一个字典对象\n",
    "data_dict = {\n",
    "    \"name\": \"John\",\n",
    "    \"age\": 30,\n",
    "    \"city\": \"New York\"\n",
    "}\n",
    "\n",
    "# 将字典内容写入到一个JSON文件中\n",
    "with open('output.json', 'w') as json_file:\n",
    "    json.dump(data_dict, json_file, indent=4)\n",
    "\n",
    "# 这样就将数据字典的内容以JSON格式保存到了'output.json'文件里。"
   ]
  },
  {
   "cell_type": "code",
   "execution_count": null,
   "id": "5c9274ec",
   "metadata": {},
   "outputs": [],
   "source": []
  }
 ],
 "metadata": {
  "kernelspec": {
   "display_name": "Python 3 (ipykernel)",
   "language": "python",
   "name": "python3"
  },
  "language_info": {
   "codemirror_mode": {
    "name": "ipython",
    "version": 3
   },
   "file_extension": ".py",
   "mimetype": "text/x-python",
   "name": "python",
   "nbconvert_exporter": "python",
   "pygments_lexer": "ipython3",
   "version": "3.8.16"
  }
 },
 "nbformat": 4,
 "nbformat_minor": 5
}
