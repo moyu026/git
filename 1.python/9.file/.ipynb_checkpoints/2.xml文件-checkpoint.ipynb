{
 "cells": [
  {
   "cell_type": "markdown",
   "id": "3c87d751",
   "metadata": {},
   "source": [
    "#### 1.xml文件转字典格式"
   ]
  },
  {
   "cell_type": "code",
   "execution_count": 1,
   "id": "8fe917e2",
   "metadata": {},
   "outputs": [],
   "source": [
    "import xml.etree.ElementTree as ET\n",
    "\n",
    "def xml_to_dict(element):\n",
    "    # 初始化一个空字典来存储当前元素及其子元素的信息\n",
    "    element_dict = {}\n",
    "\n",
    "    # 遍历当前元素的所有属性和子元素\n",
    "    for key, value in element.attrib.items():\n",
    "        element_dict[key] = value\n",
    "\n",
    "    for child in element:\n",
    "        if len(child) > 0:  # 如果子元素还有子元素，则递归调用函数\n",
    "            child_dict = xml_to_dict(child)\n",
    "            if child.tag not in element_dict:\n",
    "                element_dict[child.tag] = [child_dict]\n",
    "            else:\n",
    "                element_dict[child.tag].append(child_dict)\n",
    "        else:  # 如果子元素没有子元素，则直接添加其文本内容到字典中\n",
    "            element_dict[child.tag] = child.text.strip() if child.text else None\n",
    "\n",
    "    return element_dict"
   ]
  },
  {
   "cell_type": "code",
   "execution_count": 2,
   "id": "8c91b1f8",
   "metadata": {},
   "outputs": [
    {
     "name": "stdout",
     "output_type": "stream",
     "text": [
      "<annotation>\n",
      "\t<folder>VOC2012</folder>\n",
      "\t<filename>2007_000027.jpg</filename>\n",
      "\t<source>\n",
      "\t\t<database>The VOC2007 Database</database>\n",
      "\t\t<annotation>PASCAL VOC2007</annotation>\n",
      "\t\t<image>flickr</image>\n",
      "\t</source>\n",
      "\t<size>\n",
      "\t\t<width>486</width>\n",
      "\t\t<height>500</height>\n",
      "\t\t<depth>3</depth>\n",
      "\t</size>\n",
      "\t<segmented>0</segmented>\n",
      "\t<object>\n",
      "\t\t<name>person</name>\n",
      "\t\t<pose>Unspecified</pose>\n",
      "\t\t<truncated>0</truncated>\n",
      "\t\t<difficult>0</difficult>\n",
      "\t\t<bndbox>\n",
      "\t\t\t<xmin>174</xmin>\n",
      "\t\t\t<ymin>101</ymin>\n",
      "\t\t\t<xmax>349</xmax>\n",
      "\t\t\t<ymax>351</ymax>\n",
      "\t\t</bndbox>\n",
      "\t\t<part>\n",
      "\t\t\t<name>head</name>\n",
      "\t\t\t<bndbox>\n",
      "\t\t\t\t<xmin>169</xmin>\n",
      "\t\t\t\t<ymin>104</ymin>\n",
      "\t\t\t\t<xmax>209</xmax>\n",
      "\t\t\t\t<ymax>146</ymax>\n",
      "\t\t\t</bndbox>\n",
      "\t\t</part>\n",
      "\t\t<part>\n",
      "\t\t\t<name>hand</name>\n",
      "\t\t\t<bndbox>\n",
      "\t\t\t\t<xmin>278</xmin>\n",
      "\t\t\t\t<ymin>210</ymin>\n",
      "\t\t\t\t<xmax>297</xmax>\n",
      "\t\t\t\t<ymax>233</ymax>\n",
      "\t\t\t</bndbox>\n",
      "\t\t</part>\n",
      "\t\t<part>\n",
      "\t\t\t<name>foot</name>\n",
      "\t\t\t<bndbox>\n",
      "\t\t\t\t<xmin>273</xmin>\n",
      "\t\t\t\t<ymin>333</ymin>\n",
      "\t\t\t\t<xmax>297</xmax>\n",
      "\t\t\t\t<ymax>354</ymax>\n",
      "\t\t\t</bndbox>\n",
      "\t\t</part>\n",
      "\t\t<part>\n",
      "\t\t\t<name>foot</name>\n",
      "\t\t\t<bndbox>\n",
      "\t\t\t\t<xmin>319</xmin>\n",
      "\t\t\t\t<ymin>307</ymin>\n",
      "\t\t\t\t<xmax>340</xmax>\n",
      "\t\t\t\t<ymax>326</ymax>\n",
      "\t\t\t</bndbox>\n",
      "\t\t</part>\n",
      "\t</object>\n",
      "</annotation>\n",
      "\n"
     ]
    }
   ],
   "source": [
    "with open('data/2007_000027.xml') as f:\n",
    "    xml = f.read()\n",
    "    print(xml)"
   ]
  },
  {
   "cell_type": "code",
   "execution_count": 7,
   "id": "2eb3331b",
   "metadata": {},
   "outputs": [
    {
     "data": {
      "text/plain": [
       "{'folder': 'VOC2012',\n",
       " 'filename': '2007_000027.jpg',\n",
       " 'source': [{'database': 'The VOC2007 Database',\n",
       "   'annotation': 'PASCAL VOC2007',\n",
       "   'image': 'flickr'}],\n",
       " 'size': [{'width': '486', 'height': '500', 'depth': '3'}],\n",
       " 'segmented': '0',\n",
       " 'object': [{'name': 'person',\n",
       "   'pose': 'Unspecified',\n",
       "   'truncated': '0',\n",
       "   'difficult': '0',\n",
       "   'bndbox': [{'xmin': '174', 'ymin': '101', 'xmax': '349', 'ymax': '351'}],\n",
       "   'part': [{'name': 'head',\n",
       "     'bndbox': [{'xmin': '169', 'ymin': '104', 'xmax': '209', 'ymax': '146'}]},\n",
       "    {'name': 'hand',\n",
       "     'bndbox': [{'xmin': '278', 'ymin': '210', 'xmax': '297', 'ymax': '233'}]},\n",
       "    {'name': 'foot',\n",
       "     'bndbox': [{'xmin': '273', 'ymin': '333', 'xmax': '297', 'ymax': '354'}]},\n",
       "    {'name': 'foot',\n",
       "     'bndbox': [{'xmin': '319',\n",
       "       'ymin': '307',\n",
       "       'xmax': '340',\n",
       "       'ymax': '326'}]}]}]}"
      ]
     },
     "execution_count": 7,
     "metadata": {},
     "output_type": "execute_result"
    }
   ],
   "source": [
    "# 解析XML字符串\n",
    "root = ET.fromstring(xml)\n",
    "\n",
    "# 将根节点转换为字典\n",
    "annotation_dict = xml_to_dict(root)\n",
    "annotation_dict"
   ]
  },
  {
   "cell_type": "code",
   "execution_count": null,
   "id": "5b378434",
   "metadata": {},
   "outputs": [],
   "source": []
  }
 ],
 "metadata": {
  "kernelspec": {
   "display_name": "Python 3 (ipykernel)",
   "language": "python",
   "name": "python3"
  },
  "language_info": {
   "codemirror_mode": {
    "name": "ipython",
    "version": 3
   },
   "file_extension": ".py",
   "mimetype": "text/x-python",
   "name": "python",
   "nbconvert_exporter": "python",
   "pygments_lexer": "ipython3",
   "version": "3.8.16"
  }
 },
 "nbformat": 4,
 "nbformat_minor": 5
}
