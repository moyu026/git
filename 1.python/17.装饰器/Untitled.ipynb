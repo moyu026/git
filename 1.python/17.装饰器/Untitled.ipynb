{
 "cells": [
  {
   "cell_type": "code",
   "execution_count": null,
   "id": "a3f39469",
   "metadata": {},
   "outputs": [],
   "source": [
    "def dec(f):\n",
    "    pass\n",
    "\n",
    "@dec # 输入是一个函数，输出不一定是函数\n",
    "def double(x):\n",
    "    return x * 2\n",
    "\n",
    "# 等价于\n",
    "double = dec(double)"
   ]
  },
  {
   "cell_type": "code",
   "execution_count": 1,
   "id": "3917c9fe",
   "metadata": {},
   "outputs": [
    {
     "name": "stdout",
     "output_type": "stream",
     "text": [
      "1\n"
     ]
    }
   ],
   "source": [
    "def dec(f):\n",
    "    return 1\n",
    "\n",
    "@dec \n",
    "def double(x):\n",
    "    return x * 2\n",
    "\n",
    "print(double) # 没有对double函数进行调用"
   ]
  },
  {
   "cell_type": "code",
   "execution_count": null,
   "id": "32cc49ee",
   "metadata": {},
   "outputs": [],
   "source": []
  }
 ],
 "metadata": {
  "kernelspec": {
   "display_name": "Python 3 (ipykernel)",
   "language": "python",
   "name": "python3"
  },
  "language_info": {
   "codemirror_mode": {
    "name": "ipython",
    "version": 3
   },
   "file_extension": ".py",
   "mimetype": "text/x-python",
   "name": "python",
   "nbconvert_exporter": "python",
   "pygments_lexer": "ipython3",
   "version": "3.8.16"
  }
 },
 "nbformat": 4,
 "nbformat_minor": 5
}
