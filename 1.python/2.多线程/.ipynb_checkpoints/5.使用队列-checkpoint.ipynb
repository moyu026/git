{
 "cells": [
  {
   "cell_type": "code",
   "execution_count": 1,
   "id": "b24e340f",
   "metadata": {},
   "outputs": [
    {
     "ename": "ModuleNotFoundError",
     "evalue": "No module named 'paddleocr'",
     "output_type": "error",
     "traceback": [
      "\u001b[1;31m---------------------------------------------------------------------------\u001b[0m",
      "\u001b[1;31mModuleNotFoundError\u001b[0m                       Traceback (most recent call last)",
      "Cell \u001b[1;32mIn[1], line 2\u001b[0m\n\u001b[0;32m      1\u001b[0m \u001b[38;5;28;01mimport\u001b[39;00m \u001b[38;5;21;01mcv2\u001b[39;00m\n\u001b[1;32m----> 2\u001b[0m \u001b[38;5;28;01mfrom\u001b[39;00m \u001b[38;5;21;01mpaddleocr\u001b[39;00m \u001b[38;5;28;01mimport\u001b[39;00m PaddleOCR\n\u001b[0;32m      3\u001b[0m \u001b[38;5;28;01mimport\u001b[39;00m \u001b[38;5;21;01mthreading\u001b[39;00m\n\u001b[0;32m      4\u001b[0m \u001b[38;5;28;01mimport\u001b[39;00m \u001b[38;5;21;01mqueue\u001b[39;00m\n",
      "\u001b[1;31mModuleNotFoundError\u001b[0m: No module named 'paddleocr'"
     ]
    }
   ],
   "source": [
    "import cv2\n",
    "from paddleocr import PaddleOCR\n",
    "import threading\n",
    "import queue\n",
    "\n",
    "# 创建一个队列用于存放视频帧\n",
    "frame_queue = queue.Queue()\n",
    "\n",
    "ocr = PaddleOCR(use_angle_cls=True, lang=\"ch\")\n",
    "\n",
    "def read_video(filename, frame_queue):\n",
    "    cap = cv2.VideoCapture(filename)\n",
    "\n",
    "    while True:\n",
    "        ret, frame = cap.read()\n",
    "        if not ret:\n",
    "            break\n",
    "        # 将读取到的帧放入队列中\n",
    "        frame_queue.put(frame)\n",
    "    # 当视频读取完毕时，向队列中放入一个特殊值表示结束\n",
    "    frame_queue.put(None)\n",
    "\n",
    "def detect_video(frame_queue):\n",
    "    while True:\n",
    "        # 从队列中获取一帧，如果没有帧则阻塞等待\n",
    "        frame = frame_queue.get()\n",
    "        if frame is None:\n",
    "            # 遇到特殊值（None）则退出循环\n",
    "            break\n",
    "        result = ocr.ocr(frame)\n",
    "        print(result)\n",
    "\n",
    "if __name__ == \"__main__\":\n",
    "    video_path = r'F:\\PythonWork\\6.grpc\\data/1.mp4'\n",
    "\n",
    "    t1 = threading.Thread(target=read_video, args=(video_path, frame_queue,))\n",
    "    t2 = threading.Thread(target=detect_video, args=(frame_queue,))\n",
    "\n",
    "    t1.start()\n",
    "    t2.start()\n",
    "\n",
    "    t1.join()\n",
    "    t2.join()"
   ]
  },
  {
   "cell_type": "markdown",
   "id": "7ac17555",
   "metadata": {},
   "source": [
    "`frame_queue = queue.Queue(maxsize=10)`  # 这样就设置了队列最多只能存放10个frame  \n",
    "\n",
    "\n",
    "在这个情况下，当队列已满（即已经有10个frame），试图再放入新帧的操作将会阻塞，直到有其他线程从队列中取出一个frame，腾出空间为止。如果未显式指定 maxsize，则队列会无限制地增长，只要内存允许的话，它可以存储任意多的帧。然而，在实际应用中，尤其是处理视频流时，为了避免内存溢出和保证实时性，通常会根据系统的处理能力和需求设定一个合理的缓冲区大小。\n"
   ]
  },
  {
   "cell_type": "markdown",
   "id": "b1c09052",
   "metadata": {},
   "source": [
    "上面提到的两个线程 read_video 和 detect_video 的运行顺序是并行启动的，而不是按照特定顺序执行。在多线程环境下，操作系统会根据调度策略在不同的时间片内切换两个线程，所以它们的实际执行看起来像是交错进行的。  \n",
    "不过，在这段代码中：  \n",
    "t1 = Thread(target=read_video, args=(video_path,))  \n",
    "t2 = Thread(target=detect_video)  \n",
    "t1.start()  \n",
    "t2.start()  \n",
    "t1 用于读取视频帧，而 t2 用于处理这些帧。理论上，t1 应该先于 t2 开始填充队列，以便 t2 能够立即开始从队列中取出数据进行处理。但两个线程各自内部的执行不是有序的，而是并发进行的。  \n",
    "由于有共享资源（即队列），detect_video 线程会等待队列中有帧可用时才进行处理。这样确保了即使两个线程并行运行，处理逻辑依然能按预期顺序进行——即先读取帧，然后处理帧。  \n",
    "如果需要确保在 detect_video 线程开始之前 read_video 线程至少已经读取了一帧，则可以通过添加适当的同步机制（例如事件或条件变量）来实现这一需求。然而在这个场景下，通过使用队列作为中介，就已经隐式地实现了这种逻辑上的顺序依赖。\n"
   ]
  },
  {
   "cell_type": "code",
   "execution_count": null,
   "id": "63ab7a96",
   "metadata": {},
   "outputs": [],
   "source": []
  }
 ],
 "metadata": {
  "kernelspec": {
   "display_name": "Python 3 (ipykernel)",
   "language": "python",
   "name": "python3"
  },
  "language_info": {
   "codemirror_mode": {
    "name": "ipython",
    "version": 3
   },
   "file_extension": ".py",
   "mimetype": "text/x-python",
   "name": "python",
   "nbconvert_exporter": "python",
   "pygments_lexer": "ipython3",
   "version": "3.8.16"
  }
 },
 "nbformat": 4,
 "nbformat_minor": 5
}
