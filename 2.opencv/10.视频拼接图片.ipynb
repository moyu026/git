{
 "cells": [
  {
   "cell_type": "code",
   "execution_count": null,
   "id": "b275a692",
   "metadata": {},
   "outputs": [],
   "source": [
    "import cv2\n",
    "import numpy as np\n",
    "\n",
    "\n",
    "video_path = 'file/0/1.mp4'\n",
    "cap = cv2.VideoCapture(video_path)\n",
    "\n",
    "# 读取第一帧作为初始画布\n",
    "ret, canvas = cap.read()\n",
    "canvas_height, canvas_width = canvas.shape[:2]\n",
    "\n",
    "# 定义画布的初始高度和每次添加部分的高度\n",
    "initial_canvas_height = canvas_height\n",
    "additional_height = 5  # 增加图片的高度\n",
    "\n",
    "\n",
    "frame_count = 0\n",
    "\n",
    "# 遍历视频中的每一帧\n",
    "while True:\n",
    "    ret, frame = cap.read()\n",
    "    if not ret:\n",
    "        break\n",
    "\n",
    "    if frame_count % 5 == 0:\n",
    "        # 动态调整画布的高度\n",
    "        canvas_height += additional_height\n",
    "        new_canvas = np.zeros((canvas_height, canvas_width, 3), dtype=np.uint8)\n",
    "\n",
    "        # 复制之前画布的内容到新画布\n",
    "        new_canvas[:initial_canvas_height, :, :] = canvas\n",
    "\n",
    "        # 在画布下方添加新帧的一小部分\n",
    "        new_canvas[initial_canvas_height:, :, :] = frame[-additional_height:, :, :]\n",
    "\n",
    "        # 更新画布\n",
    "        canvas = new_canvas\n",
    "        initial_canvas_height = canvas_height\n",
    "\n",
    "    frame_count += 1\n",
    "\n",
    "cap.release()\n",
    "\n",
    "\n",
    "# cv2.imwrite('merged_image.jpg', canvas)\n",
    "\n",
    "# cv2.imshow('Merged Image', canvas)\n",
    "# cv2.waitKey(0)\n",
    "# cv2.destroyAllWindows()\n"
   ]
  },
  {
   "cell_type": "code",
   "execution_count": null,
   "id": "dba9f060",
   "metadata": {},
   "outputs": [],
   "source": [
    "import matplotlib.pyplot as plt\n",
    "plt.title('result')\n",
    "plt.imshow(cv2.cvtColor(canvas, cv2.COLOR_BGR2RGB))\n",
    "plt.axis('off')"
   ]
  }
 ],
 "metadata": {
  "kernelspec": {
   "display_name": "Python 3 (ipykernel)",
   "language": "python",
   "name": "python3"
  },
  "language_info": {
   "codemirror_mode": {
    "name": "ipython",
    "version": 3
   },
   "file_extension": ".py",
   "mimetype": "text/x-python",
   "name": "python",
   "nbconvert_exporter": "python",
   "pygments_lexer": "ipython3",
   "version": "3.8.16"
  }
 },
 "nbformat": 4,
 "nbformat_minor": 5
}
