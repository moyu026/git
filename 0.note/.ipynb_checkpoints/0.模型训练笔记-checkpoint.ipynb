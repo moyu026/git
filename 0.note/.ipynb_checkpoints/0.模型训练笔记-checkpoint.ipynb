{
 "cells": [
  {
   "cell_type": "markdown",
   "id": "adfea669",
   "metadata": {},
   "source": [
    "1. 在测试时图像的transform与训练保持一致\n",
    "2. 使用模型预测时，需使用model.eval()禁用网络中的BN层和dropout层\n",
    "3. yolov5中不安装albumentations则不使用该部分的数据增强，安装后使用\n",
    "4. 使用torch.hub加载yolov5模型检测时，如果使用opencv读取图片，要将BGR转成RGB，否则可能降低模型的准确率\n",
    "5. 使用cv2.imdecode和cv2.imread读取的图像用于检测时，检测结果不一样\n",
    "6. 使用cv2.imread读取的图像检测时要转成RGB格式img[..., ::-1]"
   ]
  },
  {
   "cell_type": "code",
   "execution_count": null,
   "id": "16e6788d",
   "metadata": {},
   "outputs": [],
   "source": []
  }
 ],
 "metadata": {
  "kernelspec": {
   "display_name": "Python 3 (ipykernel)",
   "language": "python",
   "name": "python3"
  },
  "language_info": {
   "codemirror_mode": {
    "name": "ipython",
    "version": 3
   },
   "file_extension": ".py",
   "mimetype": "text/x-python",
   "name": "python",
   "nbconvert_exporter": "python",
   "pygments_lexer": "ipython3",
   "version": "3.8.16"
  }
 },
 "nbformat": 4,
 "nbformat_minor": 5
}
