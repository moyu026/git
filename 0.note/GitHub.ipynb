{
 "cells": [
  {
   "cell_type": "markdown",
   "id": "47921111",
   "metadata": {},
   "source": [
    "### 1.查找"
   ]
  },
  {
   "cell_type": "markdown",
   "id": "02b4b2e5",
   "metadata": {},
   "source": [
    "1. 按项目名称查找  \n",
    "- 根据名字查找，只会显示仓库名称包含该name的项目\n",
    "- `in:name detection`\n",
    "2. 按readme内容查找\n",
    "- 根据readme文件包含的关键字进行过滤\n",
    "- `in:readme springbootLogback`\n",
    "3. 按about内容查找\n",
    "- 根据项目描述过滤，也就是 About 的内容\n",
    "- `in:description \"A magical vue admin\"`\n",
    "4. 按编程语言查找\n",
    "- `in:description springboot language:Python`\n",
    "5. 按star数查找\n",
    "- `in:description \"A magical vue admin\" stars:>1000`"
   ]
  },
  {
   "cell_type": "code",
   "execution_count": null,
   "id": "32eb4a38",
   "metadata": {},
   "outputs": [],
   "source": []
  }
 ],
 "metadata": {
  "kernelspec": {
   "display_name": "Python 3 (ipykernel)",
   "language": "python",
   "name": "python3"
  },
  "language_info": {
   "codemirror_mode": {
    "name": "ipython",
    "version": 3
   },
   "file_extension": ".py",
   "mimetype": "text/x-python",
   "name": "python",
   "nbconvert_exporter": "python",
   "pygments_lexer": "ipython3",
   "version": "3.8.16"
  }
 },
 "nbformat": 4,
 "nbformat_minor": 5
}
